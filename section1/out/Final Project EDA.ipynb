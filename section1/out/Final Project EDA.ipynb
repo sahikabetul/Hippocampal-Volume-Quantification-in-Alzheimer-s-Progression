{
 "cells": [
  {
   "cell_type": "markdown",
   "metadata": {},
   "source": [
    "# Preparing the dataset for hippocampus segmentation\n",
    "\n",
    "In this notebook you will use the skills and methods that we have talked about during our EDA Lesson to prepare the hippocampus dataset using Python. Follow the Notebook, writing snippets of code where directed so using Task comments, similar to the one below, which expects you to put the proper imports in place. Write your code directly in the cell with TASK comment. Feel free to add cells as you see fit, but please make sure that code that performs that tasked activity sits in the same cell as the Task comment.\n"
   ]
  },
  {
   "cell_type": "code",
   "execution_count": 1,
   "metadata": {},
   "outputs": [],
   "source": [
    "# TASK: Import the following libraries that we will use: nibabel, matplotlib, numpy\n",
    "import numpy as np\n",
    "import nibabel as nib\n",
    "import matplotlib.pyplot as plt\n",
    "import os\n",
    "import glob\n",
    "import shutil\n",
    "\n",
    "from mpl_toolkits.axes_grid1 import ImageGrid"
   ]
  },
  {
   "cell_type": "markdown",
   "metadata": {},
   "source": [
    "It will help your understanding of the data a lot if you were able to use a tool that allows you to view NIFTI volumes, like [3D Slicer](https://www.slicer.org/). I will refer to Slicer throughout this Notebook and will be pasting some images showing what your output might look like."
   ]
  },
  {
   "cell_type": "markdown",
   "metadata": {},
   "source": [
    "## Loading NIFTI images using NiBabel\n",
    "\n",
    "NiBabel is a python library for working with neuro-imaging formats (including NIFTI) that we have used in some of the exercises throughout the course. Our volumes and labels are in NIFTI format, so we will use nibabel to load and inspect them.\n",
    "\n",
    "NiBabel documentation could be found here: https://nipy.org/nibabel/\n",
    "\n",
    "Our dataset sits in two directories - *images* and *labels*. Each image is represented by a single file (we are fortunate to have our data converted to NIFTI) and has a corresponding label file which is named the same as the image file.\n",
    "\n",
    "Note that our dataset is \"dirty\". There are a few images and labels that are not quite right. They should be quite obvious to notice, though. The dataset contains an equal amount of \"correct\" volumes and corresponding labels, and you don't need to alter values of any samples in order to get the clean dataset."
   ]
  },
  {
   "cell_type": "code",
   "execution_count": 60,
   "metadata": {},
   "outputs": [],
   "source": [
    "# TASK: Your data sits in directory /data/TrainingSet.\n",
    "# Load an image and a segmentation mask into variables called image and label\n",
    "image_list = glob.glob(\"/data/TrainingSet/images/*nii*\")\n",
    "label_list = glob.glob(\"/data/TrainingSet/labels/*nii*\")\n",
    "\n",
    "image = nib.load(image_list[105])\n",
    "label = nib.load(label_list[105])\n",
    "\n",
    "image_data = image.get_fdata()\n",
    "label_data = label.get_fdata()"
   ]
  },
  {
   "cell_type": "code",
   "execution_count": 31,
   "metadata": {},
   "outputs": [
    {
     "name": "stdout",
     "output_type": "stream",
     "text": [
      "/data/TrainingSet/images/hippocampus_376.nii.gz (35, 55, 37) (35, 55, 37)\n",
      "/data/TrainingSet/images/hippocampus_165.nii.gz (34, 49, 29) (34, 49, 29)\n",
      "/data/TrainingSet/images/hippocampus_286.nii.gz (37, 45, 46) (37, 45, 46)\n",
      "/data/TrainingSet/images/hippocampus_152.nii.gz (36, 53, 37) (36, 53, 37)\n",
      "/data/TrainingSet/images/hippocampus_176.nii.gz (35, 50, 36) (35, 50, 36)\n",
      "/data/TrainingSet/images/hippocampus_096.nii.gz (34, 47, 39) (34, 47, 39)\n",
      "/data/TrainingSet/images/hippocampus_068.nii.gz (36, 40, 43) (36, 40, 43)\n",
      "/data/TrainingSet/images/hippocampus_289.nii.gz (35, 49, 36) (35, 49, 36)\n",
      "/data/TrainingSet/images/hippocampus_260.nii.gz (35, 53, 29) (35, 53, 29)\n",
      "/data/TrainingSet/images/hippocampus_171.nii.gz (35, 56, 28) (35, 56, 28)\n",
      "/data/TrainingSet/images/hippocampus_296.nii.gz (35, 54, 35) (35, 54, 35)\n",
      "/data/TrainingSet/images/hippocampus_142.nii.gz (38, 43, 41) (38, 43, 41)\n",
      "/data/TrainingSet/images/hippocampus_375.nii.gz (32, 54, 34) (32, 54, 34)\n",
      "/data/TrainingSet/images/hippocampus_097.nii.gz (37, 48, 34) (37, 48, 34)\n",
      "/data/TrainingSet/images/hippocampus_064.nii.gz (35, 53, 35) (35, 53, 35)\n",
      "/data/TrainingSet/images/hippocampus_108.nii.gz (36, 53, 37) (36, 53, 37)\n",
      "/data/TrainingSet/images/hippocampus_070.nii.gz (37, 50, 38) (37, 50, 38)\n",
      "/data/TrainingSet/images/hippocampus_329.nii.gz (34, 53, 32) (34, 53, 32)\n",
      "/data/TrainingSet/images/hippocampus_107.nii.gz (35, 55, 34) (35, 55, 34)\n",
      "/data/TrainingSet/images/hippocampus_090.nii.gz (37, 50, 40) (37, 50, 40)\n",
      "/data/TrainingSet/images/hippocampus_092.nii.gz (38, 49, 28) (38, 49, 28)\n",
      "/data/TrainingSet/images/hippocampus_318.nii.gz (37, 51, 33) (37, 51, 33)\n",
      "/data/TrainingSet/images/hippocampus_333.nii.gz (33, 46, 38) (33, 46, 38)\n",
      "/data/TrainingSet/images/hippocampus_123.nii.gz (32, 53, 38) (32, 53, 38)\n",
      "/data/TrainingSet/images/hippocampus_037.nii.gz (34, 51, 32) (34, 51, 32)\n",
      "/data/TrainingSet/images/hippocampus_023.nii.gz (35, 51, 35) (35, 51, 35)\n",
      "/data/TrainingSet/images/hippocampus_330.nii.gz (35, 55, 33) (35, 55, 33)\n",
      "/data/TrainingSet/images/hippocampus_374.nii.gz (38, 48, 39) (38, 48, 39)\n",
      "/data/TrainingSet/images/hippocampus_380.nii.gz (35, 46, 42) (35, 46, 42)\n",
      "/data/TrainingSet/images/hippocampus_056.nii.gz (41, 47, 42) (41, 47, 42)\n",
      "/data/TrainingSet/images/hippocampus_040.nii.gz (36, 52, 37) (36, 52, 37)\n",
      "/data/TrainingSet/images/hippocampus_127.nii.gz (38, 55, 31) (38, 55, 31)\n",
      "/data/TrainingSet/images/hippocampus_163.nii.gz (36, 47, 44) (36, 47, 44)\n",
      "/data/TrainingSet/images/hippocampus_146.nii.gz (36, 51, 32) (36, 51, 32)\n",
      "/data/TrainingSet/images/hippocampus_050.nii.gz (38, 49, 38) (38, 49, 38)\n",
      "/data/TrainingSet/images/hippocampus_279.nii.gz (34, 50, 32) (34, 50, 32)\n",
      "/data/TrainingSet/images/hippocampus_224.nii.gz (37, 48, 37) (37, 48, 37)\n",
      "/data/TrainingSet/images/hippocampus_301.nii.gz (31, 50, 36) (31, 50, 36)\n",
      "/data/TrainingSet/images/hippocampus_160.nii.gz (34, 51, 26) (34, 51, 26)\n",
      "/data/TrainingSet/images/hippocampus_352.nii.gz (38, 51, 35) (38, 51, 35)\n",
      "/data/TrainingSet/images/hippocampus_114.nii.gz (38, 50, 39) (38, 50, 39)\n",
      "/data/TrainingSet/images/hippocampus_089.nii.gz (34, 51, 38) (34, 51, 38)\n",
      "/data/TrainingSet/images/hippocampus_205.nii.gz (32, 47, 32) (32, 47, 32)\n",
      "/data/TrainingSet/images/hippocampus_026.nii.gz (36, 50, 36) (36, 50, 36)\n",
      "/data/TrainingSet/images/hippocampus_225.nii.gz (33, 53, 26) (33, 53, 26)\n",
      "/data/TrainingSet/images/hippocampus_295.nii.gz (35, 53, 36) (35, 53, 36)\n",
      "/data/TrainingSet/images/hippocampus_045.nii.gz (36, 48, 37) (36, 48, 37)\n",
      "/data/TrainingSet/images/hippocampus_390.nii.gz (38, 51, 33) (38, 51, 33)\n",
      "/data/TrainingSet/images/hippocampus_075.nii.gz (32, 47, 41) (32, 47, 41)\n",
      "/data/TrainingSet/images/hippocampus_197.nii.gz (38, 51, 31) (38, 51, 31)\n",
      "/data/TrainingSet/images/hippocampus_087.nii.gz (35, 55, 32) (35, 55, 32)\n",
      "/data/TrainingSet/images/hippocampus_370.nii.gz (35, 50, 36) (35, 50, 36)\n",
      "/data/TrainingSet/images/hippocampus_336.nii.gz (34, 47, 43) (34, 47, 43)\n",
      "/data/TrainingSet/images/hippocampus_145.nii.gz (36, 53, 33) (36, 53, 33)\n",
      "/data/TrainingSet/images/hippocampus_035.nii.gz (35, 47, 37) (35, 47, 37)\n",
      "/data/TrainingSet/images/hippocampus_195.nii.gz (33, 53, 28) (33, 53, 28)\n",
      "/data/TrainingSet/images/hippocampus_385.nii.gz (35, 48, 40) (35, 48, 40)\n",
      "/data/TrainingSet/images/hippocampus_189.nii.gz (35, 53, 30) (35, 53, 30)\n",
      "/data/TrainingSet/images/hippocampus_060.nii.gz (39, 52, 31) (39, 52, 31)\n",
      "/data/TrainingSet/images/hippocampus_132.nii.gz (36, 50, 40) (36, 50, 40)\n",
      "/data/TrainingSet/images/hippocampus_361.nii.gz (36, 50, 33) (36, 50, 33)\n",
      "/data/TrainingSet/images/hippocampus_174.nii.gz (37, 55, 34) (37, 55, 34)\n",
      "/data/TrainingSet/images/hippocampus_150.nii.gz (37, 49, 34) (37, 49, 34)\n",
      "/data/TrainingSet/images/hippocampus_094.nii.gz (38, 50, 38) (38, 50, 38)\n",
      "/data/TrainingSet/images/hippocampus_316.nii.gz (37, 51, 33) (37, 51, 33)\n",
      "/data/TrainingSet/images/hippocampus_345.nii.gz (32, 49, 30) (32, 49, 30)\n",
      "/data/TrainingSet/images/hippocampus_308.nii.gz (38, 48, 40) (38, 48, 40)\n",
      "/data/TrainingSet/images/hippocampus_250.nii.gz (35, 51, 36) (35, 51, 36)\n",
      "/data/TrainingSet/images/hippocampus_245.nii.gz (35, 48, 42) (35, 48, 42)\n",
      "/data/TrainingSet/images/hippocampus_105.nii.gz (33, 47, 37) (33, 47, 37)\n",
      "/data/TrainingSet/images/hippocampus_039.nii.gz (34, 53, 34) (34, 53, 34)\n",
      "/data/TrainingSet/images/hippocampus_372.nii.gz (36, 50, 34) (36, 50, 34)\n",
      "/data/TrainingSet/images/hippocampus_003.nii.gz (34, 52, 35) (34, 52, 35)\n",
      "/data/TrainingSet/images/hippocampus_259.nii.gz (33, 51, 28) (33, 51, 28)\n",
      "/data/TrainingSet/images/hippocampus_340.nii.gz (35, 46, 38) (35, 46, 38)\n",
      "/data/TrainingSet/images/hippocampus_219.nii.gz (37, 45, 39) (37, 45, 39)\n",
      "/data/TrainingSet/images/hippocampus_302.nii.gz (35, 46, 39) (35, 46, 39)\n",
      "/data/TrainingSet/images/hippocampus_366.nii.gz (37, 47, 34) (37, 47, 34)\n",
      "/data/TrainingSet/images/hippocampus_025.nii.gz (35, 48, 35) (35, 48, 35)\n",
      "/data/TrainingSet/images/hippocampus_019.nii.gz (36, 47, 41) (36, 47, 41)\n",
      "/data/TrainingSet/images/hippocampus_109.nii.gz (36, 49, 36) (36, 49, 36)\n",
      "/data/TrainingSet/images/hippocampus_299.nii.gz (32, 54, 34) (32, 54, 34)\n",
      "/data/TrainingSet/images/hippocampus_155.nii.gz (34, 53, 37) (34, 53, 37)\n",
      "/data/TrainingSet/images/hippocampus_381.nii.gz (33, 49, 37) (33, 49, 37)\n",
      "/data/TrainingSet/images/hippocampus_057.nii.gz (35, 51, 34) (35, 51, 34)\n",
      "/data/TrainingSet/images/hippocampus_294.nii.gz (35, 44, 44) (35, 44, 44)\n",
      "/data/TrainingSet/images/hippocampus_033.nii.gz (33, 48, 38) (33, 48, 38)\n",
      "/data/TrainingSet/images/hippocampus_373.nii.gz (34, 49, 35) (34, 49, 35)\n",
      "/data/TrainingSet/images/hippocampus_232.nii.gz (36, 44, 43) (36, 44, 43)\n",
      "/data/TrainingSet/images/hippocampus_166.nii.gz (36, 49, 31) (36, 49, 31)\n",
      "/data/TrainingSet/images/hippocampus_305.nii.gz (34, 49, 30) (34, 49, 30)\n",
      "/data/TrainingSet/images/hippocampus_233.nii.gz (33, 51, 37) (33, 51, 37)\n",
      "/data/TrainingSet/images/hippocampus_249.nii.gz (32, 52, 34) (32, 52, 34)\n",
      "/data/TrainingSet/images/hippocampus_203.nii.gz (34, 49, 38) (34, 49, 38)\n",
      "/data/TrainingSet/images/hippocampus_393.nii.gz (36, 51, 31) (36, 51, 31)\n",
      "/data/TrainingSet/images/hippocampus_251.nii.gz (36, 58, 28) (36, 58, 28)\n",
      "/data/TrainingSet/images/hippocampus_341.nii.gz (34, 48, 35) (34, 48, 35)\n",
      "/data/TrainingSet/images/hippocampus_287.nii.gz (37, 50, 39) (37, 50, 39)\n",
      "/data/TrainingSet/images/hippocampus_126.nii.gz (39, 44, 43) (39, 44, 43)\n",
      "/data/TrainingSet/images/hippocampus_130.nii.gz (35, 49, 40) (35, 49, 40)\n",
      "/data/TrainingSet/images/hippocampus_158.nii.gz (38, 52, 36) (38, 52, 36)\n",
      "/data/TrainingSet/images/hippocampus_149.nii.gz (33, 49, 32) (33, 49, 32)\n",
      "/data/TrainingSet/images/hippocampus_190.nii.gz (37, 52, 30) (37, 52, 30)\n",
      "/data/TrainingSet/images/hippocampus_084.nii.gz (34, 52, 37) (34, 52, 37)\n",
      "/data/TrainingSet/images/hippocampus_269.nii.gz (35, 49, 37) (35, 49, 37)\n",
      "/data/TrainingSet/images/hippocampus_257.nii.gz (34, 51, 33) (34, 51, 33)\n",
      "/data/TrainingSet/images/hippocampus_067.nii.gz (36, 42, 41) (36, 42, 41)\n",
      "/data/TrainingSet/images/hippocampus_095.nii.gz (34, 49, 39) (34, 49, 39)\n",
      "/data/TrainingSet/images/hippocampus_298.nii.gz (37, 50, 33) (37, 50, 33)\n",
      "/data/TrainingSet/images/hippocampus_387.nii.gz (33, 51, 32) (33, 51, 32)\n",
      "/data/TrainingSet/images/hippocampus_252.nii.gz (37, 55, 26) (37, 55, 26)\n",
      "/data/TrainingSet/images/hippocampus_106.nii.gz (34, 46, 38) (34, 46, 38)\n",
      "/data/TrainingSet/images/hippocampus_004.nii.gz (36, 52, 38) (36, 52, 38)\n",
      "/data/TrainingSet/images/hippocampus_235.nii.gz (37, 58, 35) (37, 58, 35)\n",
      "/data/TrainingSet/images/hippocampus_378.nii.gz (35, 52, 34) (35, 52, 34)\n",
      "/data/TrainingSet/images/hippocampus_194.nii.gz (35, 50, 30) (35, 50, 30)\n",
      "/data/TrainingSet/images/hippocampus_093.nii.gz (34, 53, 37) (34, 53, 37)\n",
      "/data/TrainingSet/images/hippocampus_017.nii.gz (35, 48, 32) (35, 48, 32)\n",
      "/data/TrainingSet/images/hippocampus_367.nii.gz (36, 57, 37) (36, 57, 37)\n",
      "/data/TrainingSet/images/hippocampus_185.nii.gz (35, 49, 33) (35, 49, 33)\n",
      "/data/TrainingSet/images/hippocampus_321.nii.gz (34, 46, 34) (34, 46, 34)\n",
      "/data/TrainingSet/images/hippocampus_024.nii.gz (38, 52, 33) (38, 52, 33)\n",
      "/data/TrainingSet/images/hippocampus_041.nii.gz (36, 51, 34) (36, 51, 34)\n",
      "/data/TrainingSet/images/hippocampus_162.nii.gz (38, 51, 37) (38, 51, 37)\n",
      "/data/TrainingSet/images/hippocampus_138.nii.gz (32, 46, 42) (32, 46, 42)\n",
      "/data/TrainingSet/images/hippocampus_243.nii.gz (34, 53, 24) (34, 53, 24)\n",
      "/data/TrainingSet/images/hippocampus_338.nii.gz (37, 43, 43) (37, 43, 43)\n",
      "/data/TrainingSet/images/hippocampus_048.nii.gz (38, 52, 29) (38, 52, 29)\n",
      "/data/TrainingSet/images/hippocampus_331.nii.gz (35, 52, 33) (35, 52, 33)\n",
      "/data/TrainingSet/images/hippocampus_334.nii.gz (34, 47, 36) (34, 47, 36)\n",
      "/data/TrainingSet/images/hippocampus_217.nii.gz (38, 53, 27) (38, 53, 27)\n",
      "/data/TrainingSet/images/hippocampus_282.nii.gz (37, 52, 32) (37, 52, 32)\n",
      "/data/TrainingSet/images/hippocampus_228.nii.gz (37, 48, 36) (37, 48, 36)\n",
      "/data/TrainingSet/images/hippocampus_337.nii.gz (33, 44, 41) (33, 44, 41)\n",
      "/data/TrainingSet/images/hippocampus_368.nii.gz (38, 55, 40) (38, 55, 40)\n",
      "/data/TrainingSet/images/hippocampus_226.nii.gz (32, 51, 28) (32, 51, 28)\n",
      "/data/TrainingSet/images/hippocampus_058.nii.gz (34, 53, 36) (34, 53, 36)\n",
      "/data/TrainingSet/images/hippocampus_014.nii.gz (39, 50, 40) (39, 50, 40)\n",
      "/data/TrainingSet/images/hippocampus_394.nii.gz (36, 52, 32) (36, 52, 32)\n"
     ]
    },
    {
     "name": "stdout",
     "output_type": "stream",
     "text": [
      "/data/TrainingSet/images/hippocampus_088.nii.gz (40, 52, 35) (40, 52, 35)\n",
      "/data/TrainingSet/images/hippocampus_309.nii.gz (34, 52, 38) (34, 52, 38)\n",
      "/data/TrainingSet/images/hippocampus_091.nii.gz (36, 51, 29) (36, 51, 29)\n",
      "/data/TrainingSet/images/hippocampus_036.nii.gz (36, 47, 39) (36, 47, 39)\n",
      "/data/TrainingSet/images/hippocampus_007.nii.gz (34, 47, 40) (34, 47, 40)\n",
      "/data/TrainingSet/images/hippocampus_288.nii.gz (38, 50, 42) (38, 50, 42)\n",
      "/data/TrainingSet/images/hippocampus_216.nii.gz (32, 49, 36) (32, 49, 36)\n",
      "/data/TrainingSet/images/hippocampus_248.nii.gz (36, 50, 38) (36, 50, 38)\n",
      "/data/TrainingSet/images/hippocampus_227.nii.gz (36, 47, 36) (36, 47, 36)\n",
      "/data/TrainingSet/images/hippocampus_332.nii.gz (35, 52, 33) (35, 52, 33)\n",
      "/data/TrainingSet/images/hippocampus_099.nii.gz (33, 52, 27) (33, 52, 27)\n",
      "/data/TrainingSet/images/hippocampus_234.nii.gz (38, 49, 36) (38, 49, 36)\n",
      "/data/TrainingSet/images/hippocampus_052.nii.gz (34, 52, 40) (34, 52, 40)\n",
      "/data/TrainingSet/images/hippocampus_199.nii.gz (37, 52, 26) (37, 52, 26)\n",
      "/data/TrainingSet/images/hippocampus_169.nii.gz (36, 45, 39) (36, 45, 39)\n",
      "/data/TrainingSet/images/hippocampus_280.nii.gz (37, 47, 32) (37, 47, 32)\n",
      "/data/TrainingSet/images/hippocampus_020.nii.gz (36, 46, 43) (36, 46, 43)\n",
      "/data/TrainingSet/images/hippocampus_265.nii.gz (31, 54, 34) (31, 54, 34)\n",
      "/data/TrainingSet/images/hippocampus_135.nii.gz (32, 49, 38) (32, 49, 38)\n",
      "/data/TrainingSet/images/hippocampus_212.nii.gz (35, 56, 34) (35, 56, 34)\n",
      "/data/TrainingSet/images/hippocampus_175.nii.gz (33, 47, 35) (33, 47, 35)\n",
      "/data/TrainingSet/images/hippocampus_133.nii.gz (39, 41, 42) (39, 41, 42)\n",
      "/data/TrainingSet/images/hippocampus_006.nii.gz (35, 52, 34) (35, 52, 34)\n",
      "/data/TrainingSet/images/hippocampus_015.nii.gz (42, 51, 28) (42, 51, 28)\n",
      "/data/TrainingSet/images/hippocampus_360.nii.gz (34, 49, 37) (34, 49, 37)\n",
      "/data/TrainingSet/images/hippocampus_322.nii.gz (38, 47, 37) (38, 47, 37)\n",
      "/data/TrainingSet/images/hippocampus_101.nii.gz (36, 52, 32) (36, 52, 32)\n",
      "/data/TrainingSet/images/hippocampus_144.nii.gz (34, 45, 43) (34, 45, 43)\n",
      "/data/TrainingSet/images/hippocampus_311.nii.gz (37, 49, 37) (37, 49, 37)\n",
      "/data/TrainingSet/images/hippocampus_238.nii.gz (37, 56, 36) (37, 56, 36)\n",
      "/data/TrainingSet/images/hippocampus_001.nii.gz (35, 51, 35) (35, 51, 35)\n",
      "/data/TrainingSet/images/hippocampus_261.nii.gz (36, 58, 33) (36, 58, 33)\n",
      "/data/TrainingSet/images/hippocampus_207.nii.gz (35, 53, 33) (35, 53, 33)\n",
      "/data/TrainingSet/images/hippocampus_184.nii.gz (37, 51, 33) (37, 51, 33)\n",
      "/data/TrainingSet/images/hippocampus_044.nii.gz (38, 48, 33) (38, 48, 33)\n",
      "/data/TrainingSet/images/hippocampus_386.nii.gz (37, 45, 40) (37, 45, 40)\n",
      "/data/TrainingSet/images/hippocampus_290.nii.gz (35, 49, 40) (35, 49, 40)\n",
      "/data/TrainingSet/images/hippocampus_310.nii.gz (35, 52, 38) (35, 52, 38)\n",
      "/data/TrainingSet/images/hippocampus_148.nii.gz (34, 48, 32) (34, 48, 32)\n",
      "/data/TrainingSet/images/hippocampus_231.nii.gz (33, 47, 42) (33, 47, 42)\n",
      "/data/TrainingSet/images/hippocampus_178.nii.gz (35, 44, 41) (35, 44, 41)\n",
      "/data/TrainingSet/images/hippocampus_264.nii.gz (38, 51, 37) (38, 51, 37)\n",
      "/data/TrainingSet/images/hippocampus_358.nii.gz (35, 50, 34) (35, 50, 34)\n",
      "/data/TrainingSet/images/hippocampus_276.nii.gz (35, 50, 33) (35, 50, 33)\n",
      "/data/TrainingSet/images/hippocampus_363.nii.gz (38, 52, 35) (38, 52, 35)\n",
      "/data/TrainingSet/images/hippocampus_193.nii.gz (33, 50, 29) (33, 50, 29)\n",
      "/data/TrainingSet/images/hippocampus_204.nii.gz (36, 48, 39) (36, 48, 39)\n",
      "/data/TrainingSet/images/hippocampus_389.nii.gz (34, 49, 32) (34, 49, 32)\n",
      "/data/TrainingSet/images/hippocampus_343.nii.gz (32, 45, 38) (32, 45, 38)\n",
      "/data/TrainingSet/images/hippocampus_230.nii.gz (34, 49, 37) (34, 49, 37)\n",
      "/data/TrainingSet/images/hippocampus_350.nii.gz (35, 49, 34) (35, 49, 34)\n",
      "/data/TrainingSet/images/hippocampus_125.nii.gz (43, 42, 39) (43, 42, 39)\n",
      "/data/TrainingSet/images/hippocampus_051.nii.gz (33, 54, 39) (33, 54, 39)\n",
      "/data/TrainingSet/images/hippocampus_304.nii.gz (36, 48, 38) (36, 48, 38)\n",
      "/data/TrainingSet/images/hippocampus_188.nii.gz (37, 54, 36) (37, 54, 36)\n",
      "/data/TrainingSet/images/hippocampus_143.nii.gz (32, 45, 41) (32, 45, 41)\n",
      "/data/TrainingSet/images/hippocampus_353.nii.gz (32, 51, 31) (32, 51, 31)\n",
      "/data/TrainingSet/images/hippocampus_065.nii.gz (39, 52, 37) (39, 52, 37)\n",
      "/data/TrainingSet/images/hippocampus_104.nii.gz (35, 53, 39) (35, 53, 39)\n",
      "/data/TrainingSet/images/hippocampus_351.nii.gz (35, 51, 35) (35, 51, 35)\n",
      "/data/TrainingSet/images/hippocampus_008.nii.gz (36, 48, 40) (36, 48, 40)\n",
      "/data/TrainingSet/images/hippocampus_281.nii.gz (512, 512, 31) (512, 512, 94)\n",
      "/data/TrainingSet/images/hippocampus_317.nii.gz (33, 51, 34) (33, 51, 34)\n",
      "/data/TrainingSet/images/hippocampus_236.nii.gz (37, 57, 35) (37, 57, 35)\n",
      "/data/TrainingSet/images/hippocampus_170.nii.gz (34, 48, 40) (34, 48, 40)\n",
      "/data/TrainingSet/images/hippocampus_077.nii.gz (35, 47, 45) (35, 47, 45)\n",
      "/data/TrainingSet/images/hippocampus_173.nii.gz (35, 53, 32) (35, 53, 32)\n",
      "/data/TrainingSet/images/hippocampus_049.nii.gz (35, 51, 36) (35, 51, 36)\n",
      "/data/TrainingSet/images/hippocampus_292.nii.gz (38, 52, 33) (38, 52, 33)\n",
      "/data/TrainingSet/images/hippocampus_229.nii.gz (33, 50, 35) (33, 50, 35)\n",
      "/data/TrainingSet/images/hippocampus_335.nii.gz (32, 47, 41) (32, 47, 41)\n",
      "/data/TrainingSet/images/hippocampus_253.nii.gz (34, 51, 31) (34, 51, 31)\n",
      "/data/TrainingSet/images/hippocampus_263.nii.gz (36, 51, 35) (36, 51, 35)\n",
      "/data/TrainingSet/images/hippocampus_314.nii.gz (37, 53, 33) (37, 53, 33)\n",
      "/data/TrainingSet/images/hippocampus_355.nii.gz (33, 47, 38) (33, 47, 38)\n",
      "/data/TrainingSet/images/hippocampus_221.nii.gz (32, 48, 34) (32, 48, 34)\n",
      "/data/TrainingSet/images/hippocampus_320.nii.gz (33, 47, 34) (33, 47, 34)\n",
      "/data/TrainingSet/images/hippocampus_011.nii.gz (36, 50, 31) (36, 50, 31)\n",
      "/data/TrainingSet/images/hippocampus_098.nii.gz (37, 48, 34) (37, 48, 34)\n",
      "/data/TrainingSet/images/hippocampus_161.nii.gz (35, 51, 36) (35, 51, 36)\n",
      "/data/TrainingSet/images/hippocampus_102.nii.gz (36, 55, 32) (36, 55, 32)\n",
      "/data/TrainingSet/images/hippocampus_154.nii.gz (35, 46, 42) (35, 46, 42)\n",
      "/data/TrainingSet/images/hippocampus_157.nii.gz (36, 51, 35) (36, 51, 35)\n",
      "/data/TrainingSet/images/hippocampus_274.nii.gz (35, 40, 40) (35, 40, 40)\n",
      "/data/TrainingSet/images/hippocampus_327.nii.gz (36, 54, 27) (36, 54, 27)\n",
      "/data/TrainingSet/images/hippocampus_297.nii.gz (34, 51, 30) (34, 51, 30)\n",
      "/data/TrainingSet/images/hippocampus_215.nii.gz (35, 49, 33) (35, 49, 33)\n",
      "/data/TrainingSet/images/hippocampus_074.nii.gz (37, 47, 42) (37, 47, 42)\n",
      "/data/TrainingSet/images/hippocampus_242.nii.gz (38, 52, 34) (38, 52, 34)\n",
      "/data/TrainingSet/images/hippocampus_319.nii.gz (33, 48, 34) (33, 48, 34)\n",
      "/data/TrainingSet/images/hippocampus_046.nii.gz (36, 49, 38) (36, 49, 38)\n",
      "/data/TrainingSet/images/hippocampus_034.nii.gz (36, 49, 40) (36, 49, 40)\n",
      "/data/TrainingSet/images/hippocampus_223.nii.gz (35, 52, 37) (35, 52, 37)\n",
      "/data/TrainingSet/images/hippocampus_328.nii.gz (38, 54, 30) (38, 54, 30)\n",
      "/data/TrainingSet/images/hippocampus_038.nii.gz (37, 51, 35) (37, 51, 35)\n",
      "/data/TrainingSet/images/hippocampus_180.nii.gz (37, 45, 36) (37, 45, 36)\n",
      "/data/TrainingSet/images/hippocampus_220.nii.gz (39, 45, 40) (39, 45, 40)\n",
      "/data/TrainingSet/images/hippocampus_383.nii.gz (33, 55, 29) (33, 55, 29)\n",
      "/data/TrainingSet/images/hippocampus_244.nii.gz (38, 53, 30) (38, 53, 30)\n",
      "/data/TrainingSet/images/hippocampus_277.nii.gz (33, 59, 29) (33, 59, 29)\n",
      "/data/TrainingSet/images/hippocampus_083.nii.gz (33, 52, 37) (33, 52, 37)\n",
      "/data/TrainingSet/images/hippocampus_010.nii.gz (512, 512, 241) (36, 50, 31)\n",
      "/data/TrainingSet/images/hippocampus_042.nii.gz (37, 52, 34) (37, 52, 34)\n",
      "/data/TrainingSet/images/hippocampus_349.nii.gz (34, 50, 34) (34, 50, 34)\n",
      "/data/TrainingSet/images/hippocampus_300.nii.gz (34, 53, 35) (34, 53, 35)\n",
      "/data/TrainingSet/images/hippocampus_164.nii.gz (41, 48, 47) (41, 48, 47)\n",
      "/data/TrainingSet/images/hippocampus_303.nii.gz (35, 48, 38) (35, 48, 38)\n",
      "/data/TrainingSet/images/hippocampus_326.nii.gz (36, 49, 41) (36, 49, 41)\n",
      "/data/TrainingSet/images/hippocampus_124.nii.gz (35, 55, 41) (35, 55, 41)\n",
      "/data/TrainingSet/images/hippocampus_268.nii.gz (34, 51, 37) (34, 51, 37)\n",
      "/data/TrainingSet/images/hippocampus_222.nii.gz (34, 49, 36) (34, 49, 36)\n",
      "/data/TrainingSet/images/hippocampus_053.nii.gz (37, 51, 35) (37, 51, 35)\n",
      "/data/TrainingSet/images/hippocampus_172.nii.gz (34, 56, 31) (34, 56, 31)\n",
      "/data/TrainingSet/images/hippocampus_156.nii.gz (36, 52, 36) (36, 52, 36)\n",
      "/data/TrainingSet/images/hippocampus_136.nii.gz (34, 49, 41) (34, 49, 41)\n",
      "/data/TrainingSet/images/hippocampus_177.nii.gz (33, 44, 40) (33, 44, 40)\n",
      "/data/TrainingSet/images/hippocampus_181.nii.gz (33, 49, 40) (33, 49, 40)\n",
      "/data/TrainingSet/images/hippocampus_354.nii.gz (36, 50, 32) (36, 50, 32)\n",
      "/data/TrainingSet/images/hippocampus_359.nii.gz (35, 49, 35) (35, 49, 35)\n",
      "/data/TrainingSet/images/hippocampus_141.nii.gz (33, 44, 42) (33, 44, 42)\n",
      "/data/TrainingSet/images/hippocampus_356.nii.gz (36, 51, 37) (36, 51, 37)\n",
      "/data/TrainingSet/images/hippocampus_325.nii.gz (35, 51, 40) (35, 51, 40)\n",
      "/data/TrainingSet/images/hippocampus_210.nii.gz (34, 48, 40) (34, 48, 40)\n"
     ]
    }
   ],
   "source": [
    "# Nibabel can present your image data as a Numpy array by calling the method get_fdata()\n",
    "# The array will contain a multi-dimensional Numpy array with numerical values representing voxel intensities. \n",
    "# In our case, images and labels are 3-dimensional, so get_fdata will return a 3-dimensional array. You can verify this\n",
    "# by accessing the .shape attribute. What are the dimensions of the input arrays?\n",
    "\n",
    "for image in image_list:\n",
    "    try:\n",
    "        print(image, nib.load(image).get_fdata().shape, nib.load(image.replace(\"images\", \"labels\")).get_fdata().shape )\n",
    "    except: None"
   ]
  },
  {
   "cell_type": "code",
   "execution_count": 34,
   "metadata": {},
   "outputs": [
    {
     "data": {
      "image/png": "[encoded data removed]",
      "text/plain": [
       "<Figure size 576x576 with 12 Axes>"
      ]
     },
     "metadata": {
      "needs_background": "light"
     },
     "output_type": "display_data"
    }
   ],
   "source": [
    "# TASK: using matplotlib, visualize a few slices from the dataset, along with their labels. \n",
    "# You can adjust plot sizes like so if you find them too small:\n",
    "# plt.rcParams[\"figure.figsize\"] = (10,10)\n",
    "\n",
    "# axial\n",
    "z_pos = 20\n",
    "im1, im2 = image_data[:,:,z_pos], label_data[:,:,z_pos]\n",
    "\n",
    "#sagittal\n",
    "x_pos = 20\n",
    "im3, im4 = image_data[x_pos,:,:], label_data[x_pos,:,:]\n",
    "\n",
    "#coronal\n",
    "y_pos = 20\n",
    "im5, im6 = image_data[:,y_pos,:], label_data[:,y_pos,:]\n",
    "\n",
    "fig = plt.figure(figsize=(8., 8.))\n",
    "grid = ImageGrid(fig, 111,  # similar to subplot(111)\n",
    "                 nrows_ncols=(3, 2),  # creates 2x2 grid of axes\n",
    "                 axes_pad=0.1,  # pad between axes in inch.\n",
    "                 )\n",
    "\n",
    "for ax, im in zip(grid, [im1, im2, im3, im4, im5, im6]):\n",
    "    # Iterating over the grid returns the Axes.\n",
    "    ax.imshow(im)\n",
    "\n",
    "plt.show()"
   ]
  },
  {
   "cell_type": "code",
   "execution_count": 35,
   "metadata": {},
   "outputs": [
    {
     "data": {
      "image/png": "[encoded data removed]",
      "text/plain": [
       "<Figure size 432x288 with 1 Axes>"
      ]
     },
     "metadata": {
      "needs_background": "light"
     },
     "output_type": "display_data"
    }
   ],
   "source": [
    "plt.imshow((image_data[:,:,24]*0.1+label_data[:,:,24]*100))\n",
    "plt.title('hippocampus_001 with overlay label. Axial slice: 5')\n",
    "plt.show()"
   ]
  },
  {
   "cell_type": "markdown",
   "metadata": {},
   "source": [
    "Load volume into 3D Slicer to validate that your visualization is correct and get a feel for the shape of structures.Try to get a visualization like the one below (hint: while Slicer documentation is not particularly great, there are plenty of YouTube videos available! Just look it up on YouTube if you are not sure how to do something)\n",
    "\n",
    "![3D slicer](img/Slicer.png)"
   ]
  },
  {
   "cell_type": "code",
   "execution_count": 36,
   "metadata": {},
   "outputs": [],
   "source": [
    "# Stand out suggestion: use one of the simple Volume Rendering algorithms that we've\n",
    "# implemented in one of our earlier lessons to visualize some of these volumes"
   ]
  },
  {
   "cell_type": "markdown",
   "metadata": {},
   "source": [
    "## Looking at single image data\n",
    "In this section we will look closer at the NIFTI representation of our volumes. In order to measure the physical volume of hippocampi, we need to understand the relationship between the sizes of our voxels and the physical world."
   ]
  },
  {
   "cell_type": "code",
   "execution_count": 37,
   "metadata": {
    "scrolled": true
   },
   "outputs": [
    {
     "name": "stdout",
     "output_type": "stream",
     "text": [
      "Img format is <class 'nibabel.nifti1.Nifti1Header'>\n",
      "Label format is <class 'nibabel.nifti1.Nifti1Header'>\n"
     ]
    }
   ],
   "source": [
    "# Nibabel supports many imaging formats, NIFTI being just one of them. I told you that our images \n",
    "# are in NIFTI, but you should confirm if this is indeed the format that we are dealing with\n",
    "# TASK: using .header_class attribute - what is the format of our images?\n",
    "header = image.header\n",
    "\n",
    "print(f'Img format is {image.header_class}')\n",
    "print(f'Label format is {label.header_class}')"
   ]
  },
  {
   "cell_type": "markdown",
   "metadata": {},
   "source": [
    "Further down we will be inspecting .header attribute that provides access to NIFTI metadata. You can use this resource as a reference for various fields: https://brainder.org/2012/09/23/the-nifti-file-format/"
   ]
  },
  {
   "cell_type": "code",
   "execution_count": 38,
   "metadata": {},
   "outputs": [
    {
     "name": "stdout",
     "output_type": "stream",
     "text": [
      "32\n"
     ]
    }
   ],
   "source": [
    "# TASK: How many bits per pixel are used?\n",
    "print(header['bitpix'])"
   ]
  },
  {
   "cell_type": "code",
   "execution_count": 39,
   "metadata": {},
   "outputs": [
    {
     "name": "stdout",
     "output_type": "stream",
     "text": [
      "Units of measurement: milimeter\n"
     ]
    }
   ],
   "source": [
    "# TASK: What are the units of measurement?\n",
    "xyzt=label.header['xyzt_units']\n",
    "c= xyzt & 0x07 # code for spatial dimension\n",
    "\n",
    "if c==1:\n",
    "    print (f\"Units of measurement: meter\")\n",
    "if c==2:\n",
    "    print (f\"Units of measurement: milimeter\")\n",
    "if c==3:\n",
    "    print (f\"Units of measurement: micron\")"
   ]
  },
  {
   "cell_type": "code",
   "execution_count": 41,
   "metadata": {},
   "outputs": [
    {
     "name": "stdout",
     "output_type": "stream",
     "text": [
      "grid spacings=[1. 1. 1. 1. 1. 0. 0. 0.]: regular\n"
     ]
    }
   ],
   "source": [
    "# TASK: Do we have a regular grid? What are grid spacings?\n",
    "print(f\"grid spacings={header['pixdim']}: regular\")"
   ]
  },
  {
   "cell_type": "code",
   "execution_count": 42,
   "metadata": {},
   "outputs": [
    {
     "name": "stdout",
     "output_type": "stream",
     "text": [
      "axial dimension number of slices=33\n",
      "sagittal dimension number of slices=34\n",
      "coronal dimension number of slices=51\n"
     ]
    }
   ],
   "source": [
    "# TASK: What dimensions represent axial, sagittal, and coronal slices? How do you know?\n",
    "print (f\"axial dimension number of slices={image_data.shape[2]}\")\n",
    "print (f\"sagittal dimension number of slices={image_data.shape[0]}\")\n",
    "print (f\"coronal dimension number of slices={image_data.shape[1]}\")\n",
    "\n",
    "# NIFTI-1 reserves dimensions 1,2,3 for space (x,y,z), 4 for time (t), and 5,6,7 for anything else needed.\n",
    "# x, y: axial\n",
    "# y, z: coronal\n",
    "# x, z: sagittal when third dimension is consistent."
   ]
  },
  {
   "cell_type": "code",
   "execution_count": 47,
   "metadata": {},
   "outputs": [
    {
     "name": "stdout",
     "output_type": "stream",
     "text": [
      "volume of hippocampus: 2863.0 mm³\n"
     ]
    }
   ],
   "source": [
    "# By now you should have enough information to decide what are dimensions of a single voxel\n",
    "# TASK: Compute the volume (in mm³) of a hippocampus using one of the labels you've loaded. \n",
    "# You should get a number between ~2200 and ~4500\n",
    "\n",
    "# calculate volume of voxels\n",
    "voxel_volume = header['pixdim'][1] * header['pixdim'][2] * header['pixdim'][3]\n",
    "\n",
    "# find hippocampus volume by non-zero voxel values\n",
    "print (f\"volume of hippocampus: {np.sum(label.get_fdata() > 0) * voxel_volume} mm³\")\n"
   ]
  },
  {
   "cell_type": "code",
   "execution_count": 81,
   "metadata": {},
   "outputs": [],
   "source": [
    "def hippo_vol(image_path):\n",
    "    header = nib.load(image_path).header\n",
    "    voxel_volume = header['pixdim'][1] * header['pixdim'][2] * header['pixdim'][3]\n",
    "\n",
    "    # find hippocampus volume by non-zero voxel values\n",
    "    label = nib.load(image_path.replace(\"images\", \"labels\"))\n",
    "    volume = np.sum(label.get_fdata() > 0) * voxel_volume\n",
    "\n",
    "    return volume"
   ]
  },
  {
   "cell_type": "markdown",
   "metadata": {},
   "source": [
    "## Plotting some charts"
   ]
  },
  {
   "cell_type": "code",
   "execution_count": 45,
   "metadata": {},
   "outputs": [
    {
     "data": {
      "image/png": "[encoded data removed]",
      "text/plain": [
       "<Figure size 432x288 with 1 Axes>"
      ]
     },
     "metadata": {
      "needs_background": "light"
     },
     "output_type": "display_data"
    }
   ],
   "source": [
    "# TASK: Plot a histogram of all volumes that we have in our dataset and see how \n",
    "# our dataset measures against a slice of a normal population represented by the chart below.\n",
    "\n",
    "volume = [np.sum(nib.load(label_list[i]).get_fdata() > 0) for i in range(len(label_list))]\n",
    "plt.hist(volume, bins=50);\n",
    "plt.title('Histogram of Volumes');\n",
    "plt.xlabel('Volume');\n",
    "plt.show()"
   ]
  },
  {
   "cell_type": "markdown",
   "metadata": {},
   "source": [
    "<img src=\"img/nomogram_fem_right.svg\" width=400 align=left>"
   ]
  },
  {
   "cell_type": "markdown",
   "metadata": {},
   "source": [
    "Do you see any outliers? Why do you think it's so (might be not immediately obvious, but it's always a good idea to inspect) outliers closer. If you haven't found the images that do not belong, the histogram may help you."
   ]
  },
  {
   "cell_type": "markdown",
   "metadata": {},
   "source": [
    "In the real world we would have precise information about the ages and conditions of our patients, and understanding how our dataset measures against population norm would be the integral part of clinical validation that we talked about in last lesson. Unfortunately, we do not have this information about this dataset, so we can only guess why it measures the way it is. If you would like to explore further, you can use the [calculator from HippoFit project](http://www.smanohar.com/biobank/calculator.html) to see how our dataset compares against different population slices"
   ]
  },
  {
   "cell_type": "markdown",
   "metadata": {},
   "source": [
    "Did you notice anything odd about the label files? We hope you did! The mask seems to have two classes, labeled with values `1` and `2` respectively. If you visualized sagittal or axial views, you might have gotten a good guess of what those are. Class 1 is the anterior segment of the hippocampus and class 2 is the posterior one. \n",
    "\n",
    "For the purpose of volume calculation we do not care about the distinction, however we will still train our network to differentiate between these two classes and the background"
   ]
  },
  {
   "cell_type": "code",
   "execution_count": 93,
   "metadata": {},
   "outputs": [
    {
     "data": {
      "text/plain": [
       "['/data/TrainingSet/images/hippocampus_281.nii.gz',\n",
       " '/data/TrainingSet/images/hippocampus_010.nii.gz']"
      ]
     },
     "execution_count": 93,
     "metadata": {},
     "output_type": "execute_result"
    }
   ],
   "source": [
    "# drop 118th image because of missing label\n",
    "image_list.remove(\"/data/TrainingSet/images/hippocampus_118.nii.gz\")\n",
    "\n",
    "#find outliers\n",
    "outliers = []\n",
    "for image_path in image_list:\n",
    "    if (hippo_vol(image_path) < 2200) or (hippo_vol(image_path) > 4500):\n",
    "        outliers.append(image_path)\n",
    "outliers"
   ]
  },
  {
   "cell_type": "code",
   "execution_count": 99,
   "metadata": {},
   "outputs": [
    {
     "name": "stdout",
     "output_type": "stream",
     "text": [
      "/root\n"
     ]
    }
   ],
   "source": [
    "cd"
   ]
  },
  {
   "cell_type": "code",
   "execution_count": 102,
   "metadata": {},
   "outputs": [
    {
     "name": "stdout",
     "output_type": "stream",
     "text": [
      "Number of images in clean dataset: 260\n",
      "Number of labels in clean dataset: 260\n"
     ]
    }
   ],
   "source": [
    "# TASK: Copy the clean dataset to the output folder inside section1/out. You will use it in the next Section\n",
    "\n",
    "out_images_path = '/home/workspace/out/images/'\n",
    "out_labels_path = '/home/workspace/out/labels/'\n",
    "\n",
    "# if target directory is not exist, create it\n",
    "if not os.path.isdir(out_images_path):\n",
    "    os.mkdir(out_images_path)\n",
    "if not os.path.isdir(out_labels_path):\n",
    "    os.mkdir(out_labels_path)\n",
    "\n",
    "for image_path in image_list:\n",
    "    # copy all images except outliers\n",
    "    if image_path not in outliers:\n",
    "        # copy image\n",
    "        shutil.copy(image_path, out_images_path)\n",
    "\n",
    "        # get label file path with image file path and copy\n",
    "        label_path = image_path.replace(\"images\", \"labels\")\n",
    "        shutil.copy(label_path, out_labels_path)\n",
    "\n",
    "print(f\"Number of images in clean dataset: {len(os.listdir(out_images_path))}\")\n",
    "print(f\"Number of labels in clean dataset: {len(os.listdir(out_labels_path))}\")"
   ]
  },
  {
   "cell_type": "markdown",
   "metadata": {},
   "source": [
    "## Final remarks\n",
    "\n",
    "Congratulations! You have finished Section 1. \n",
    "\n",
    "In this section you have inspected a dataset of MRI scans and related segmentations, represented as NIFTI files. We have visualized some slices, and understood the layout of the data. We have inspected file headers to understand what how the image dimensions relate to the physical world and we have understood how to measure our volume. We have then inspected dataset for outliers, and have created a clean set that is ready for consumption by our ML algorithm. \n",
    "\n",
    "In the next section you will create training and testing pipelines for a UNet-based machine learning model, run and monitor the execution, and will produce test metrics. This will arm you with all you need to use the model in the clinical context and reason about its performance!"
   ]
  }
 ],
 "metadata": {
  "kernelspec": {
   "display_name": "Python 3",
   "language": "python",
   "name": "python3"
  },
  "language_info": {
   "codemirror_mode": {
    "name": "ipython",
    "version": 3
   },
   "file_extension": ".py",
   "mimetype": "text/x-python",
   "name": "python",
   "nbconvert_exporter": "python",
   "pygments_lexer": "ipython3",
   "version": "3.8.2"
  }
 },
 "nbformat": 4,
 "nbformat_minor": 2
}
